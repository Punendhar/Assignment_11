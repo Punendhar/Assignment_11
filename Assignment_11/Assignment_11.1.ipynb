{
 "cells": [
  {
   "cell_type": "markdown",
   "metadata": {},
   "source": [
    "Problem Statement 1:\n",
    "\n",
    "You survey households in your area to find the average rent they are paying. Find the\n",
    "\n",
    "standard deviation from the following data:\n",
    "$1550, $1700, $900, $850, $1000, $950."
   ]
  },
  {
   "cell_type": "code",
   "execution_count": 2,
   "metadata": {},
   "outputs": [
    {
     "name": "stdout",
     "output_type": "stream",
     "text": [
      "Standard deviation of household rent is $367.99\n"
     ]
    }
   ],
   "source": [
    "import statistics as stat \n",
    "\n",
    "rent =[1550, 1700, 900, 850, 1000, 950]\n",
    "\n",
    "rent_stdev= stat.stdev(rent) \n",
    "\n",
    "#Standard deviation for House Hold Rent is\n",
    "standardDeviation = round(rent_stdev,2) \n",
    "\n",
    "print(\"Standard deviation of household rent is $\"+str(standardDeviation))"
   ]
  },
  {
   "attachments": {
    "image.png": {
     "image/png": "[encoded data removed]"
    }
   },
   "cell_type": "markdown",
   "metadata": {},
   "source": [
    "Problem Statement 1 :\n",
    "\n",
    "You survey households in your area to find the average rent they are paying. Find the\n",
    "standard deviation from the following data:\n",
    "\n",
    "$1550, $1700, $900, $850, $1000, $950.\n",
    "\n",
    "Solution: \n",
    "\n",
    "A : Calculate Mean\n",
    "\n",
    "The formula to find the sample mean is: = ( Σ xi ) / n\n",
    "\n",
    "Σ of xi = (1550 + 1700 + 900 + 850 + 1000 + 950)/6     =  $1158.33\n",
    "\t\t\t\t6\n",
    "\n",
    "The Mean is $1158.33\n",
    "\n",
    "\n",
    "B : Calculate Standard Deviation \n",
    "\n",
    "![image.png](attachment:image.png) \n",
    "\n",
    "Where :\n",
    "\n",
    "s means 'standard deviation'.\n",
    "S means 'the sum of'.\n",
    "X means 'the mean'\n",
    "\n",
    "\n",
    "\n",
    "Step 1 : Calculate mean\n",
    "\n",
    "\n",
    "mean = (1550 + 1700 + 900 + 850 + 1000 + 950)/6     =  $1158.33\n",
    "\n",
    "\n",
    "Step 2 :  Subtract the mean calculated from step 1 from each value. This gives you the differences:\n",
    "\n",
    "$1550 – $1158.33 = $391.67\n",
    "\n",
    "$1700 – $1158.33 = $541.67\n",
    "\n",
    "$900 – $1158.33 = -$258.33\n",
    "\n",
    "$850 – $1158.33 = -$308.33\n",
    "\n",
    "$1000 – $1158.33 = $158.33\n",
    "\n",
    "$950 – $1158.33 = $208.33\n",
    "\n",
    "\n",
    "Step 3: Square the differences you found in Step 3:\n",
    "\n",
    "$391.672 = 153405.3889\n",
    "\n",
    "$541.672 = 293406.3889\n",
    "\n",
    "-$258.332 = 66734.3889\n",
    "\n",
    "-$308.332 = 95067.3889\n",
    "\n",
    "$158.332 = 25068.3889\n",
    "\n",
    "$208.332 = 43401.3889\n",
    "\n",
    "Step 4: Add up all of the squares you found in Step 3 and divide by 5 (which is 6 – 1):\n",
    "\n",
    "(153405.3889 + 293406.3889 + 66734.3889 + 95067.3889 + 25068.3889 + 43401.3889) / 5 = 135416.66668\n",
    "\n",
    "Step 5: Find the square root of the number you found in Step 4 (the variance):\n",
    "\n",
    "√135416.66668 = 367.99\n",
    "\n",
    "The standard deviation is 367.99.\n"
   ]
  },
  {
   "cell_type": "code",
   "execution_count": 3,
   "metadata": {},
   "outputs": [
    {
     "name": "stdout",
     "output_type": "stream",
     "text": [
      "Variance  for trees in California is $6219.9\n"
     ]
    }
   ],
   "source": [
    "#Problem 2. Find the variance for the following set of data representing trees in California (heights in feet): 3, 21, 98, 203, 17, 9\n",
    "\n",
    "trees =[3, 21, 98, 203, 17, 9]\n",
    "\n",
    "trees_variance= stat.variance(trees) \n",
    "\n",
    "result = round(trees_variance,2)\n",
    "print(\"Variance  for trees in California is $\" +str(result))"
   ]
  },
  {
   "attachments": {
    "image.png": {
     "image/png": "[encoded data removed]"
    }
   },
   "cell_type": "markdown",
   "metadata": {},
   "source": [
    "Variance Formula:\n",
    "![image.png](attachment:image.png)\n",
    " \n",
    "Step 1: Add up the numbers in your given data set.\n",
    "3 + 21 + 98 + 203 + 17 + 9 = 351\n",
    "\n",
    "Step 2: Square your answer:\n",
    "351 × 351 = 123,201\n",
    "…and divide by the number of items. We have 6 items in our example so:\n",
    "123,201 / 6 = 20,533.5\n",
    "\n",
    "Step 3: Square each item in the data set & get the sum of squares\n",
    "3 × 3 + 21 × 21 + 98 × 98 + 203 × 203 + 17 × 17 + 9 × 9\n",
    "\n",
    "Add those numbers (the squares) together:\n",
    "9 + 441 + 9604 + 41209 + 289 + 81 = 51,633\n",
    "\n",
    "Step 4: Subtract the value calculated in Step 2 from the the value of Step 3.\n",
    "51,633 – 20,533.5 = 31,099.5\n",
    "\n",
    "Step 5: Subtract 1 from the number of items in your data set*. For our example:\n",
    "6 – 1 = 5\n",
    "\n",
    "Step 6: Divide the number in Step 4 by the number in Step 5. This gives you the variance:\n",
    "31,099.5 / 5 = 6,219.9\n"
   ]
  },
  {
   "cell_type": "code",
   "execution_count": 4,
   "metadata": {},
   "outputs": [
    {
     "data": {
      "text/html": [
       "<div>\n",
       "<style scoped>\n",
       "    .dataframe tbody tr th:only-of-type {\n",
       "        vertical-align: middle;\n",
       "    }\n",
       "\n",
       "    .dataframe tbody tr th {\n",
       "        vertical-align: top;\n",
       "    }\n",
       "\n",
       "    .dataframe thead th {\n",
       "        text-align: right;\n",
       "    }\n",
       "</style>\n",
       "<table border=\"1\" class=\"dataframe\">\n",
       "  <thead>\n",
       "    <tr style=\"text-align: right;\">\n",
       "      <th></th>\n",
       "      <th>failed_subject</th>\n",
       "      <th>probabilities_of_student_failed</th>\n",
       "    </tr>\n",
       "  </thead>\n",
       "  <tbody>\n",
       "    <tr>\n",
       "      <th>0</th>\n",
       "      <td>0</td>\n",
       "      <td>0.80</td>\n",
       "    </tr>\n",
       "    <tr>\n",
       "      <th>1</th>\n",
       "      <td>1</td>\n",
       "      <td>0.10</td>\n",
       "    </tr>\n",
       "    <tr>\n",
       "      <th>2</th>\n",
       "      <td>2</td>\n",
       "      <td>0.07</td>\n",
       "    </tr>\n",
       "    <tr>\n",
       "      <th>3</th>\n",
       "      <td>3</td>\n",
       "      <td>0.03</td>\n",
       "    </tr>\n",
       "  </tbody>\n",
       "</table>\n",
       "</div>"
      ],
      "text/plain": [
       "   failed_subject  probabilities_of_student_failed\n",
       "0               0                             0.80\n",
       "1               1                             0.10\n",
       "2               2                             0.07\n",
       "3               3                             0.03"
      ]
     },
     "execution_count": 4,
     "metadata": {},
     "output_type": "execute_result"
    }
   ],
   "source": [
    "#Problem 3. In a class on 100 students, 80 students passed in all subjects, 10 failed in one subject, 7 failed in two subjects and 3 failed in three subjects. Find the probability distribution of the variable for number of subjects a student from the given class has failed in.\n",
    "\n",
    "import pandas as pd\n",
    "\n",
    "#probabilites distributions\n",
    "zero_sub_failed=80/100\n",
    "one_sub_failed= 10/100\n",
    "two_sub_failed=7/100\n",
    "three_sub_failed=3/100\n",
    "\n",
    "#dataframe\n",
    "prob_df =pd.DataFrame({'failed_subject':[0,1,2,3],'probabilities_of_student_failed':[zero_sub_failed,one_sub_failed,two_sub_failed,three_sub_failed]})\n",
    "\n",
    "#probabilities distributions\n",
    "prob_df"
   ]
  },
  {
   "attachments": {
    "image.png": {
     "image/png": "[encoded data removed]"
    }
   },
   "cell_type": "markdown",
   "metadata": {},
   "source": [
    "For a random student, \n",
    "\n",
    "The probability of failing in 0 subjects, P(X=0) = 0.8\n",
    "\n",
    "The probability of failing in 1 subjects, P(X=1) = 0.1\n",
    "\n",
    "The probability of failing in 2 subjects, P(X=2) = 0.07\n",
    "\n",
    "The probability of failing in 3 subjects, P(X=3) = 0.03\n",
    "\n",
    "The probability distribution can be shown as:\n",
    "![image.png](attachment:image.png)"
   ]
  },
  {
   "cell_type": "code",
   "execution_count": null,
   "metadata": {},
   "outputs": [],
   "source": []
  }
 ],
 "metadata": {
  "kernelspec": {
   "display_name": "Python 3",
   "language": "python",
   "name": "python3"
  },
  "language_info": {
   "codemirror_mode": {
    "name": "ipython",
    "version": 3
   },
   "file_extension": ".py",
   "mimetype": "text/x-python",
   "name": "python",
   "nbconvert_exporter": "python",
   "pygments_lexer": "ipython3",
   "version": "3.7.0"
  }
 },
 "nbformat": 4,
 "nbformat_minor": 2
}
